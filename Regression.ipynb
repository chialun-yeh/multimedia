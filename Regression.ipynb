{
 "cells": [
  {
   "cell_type": "code",
   "execution_count": 1,
   "metadata": {},
   "outputs": [],
   "source": [
    "import os\n",
    "import numpy as np\n",
    "import pandas as pd"
   ]
  },
  {
   "cell_type": "code",
   "execution_count": 2,
   "metadata": {},
   "outputs": [],
   "source": [
    "# read in the features\n",
    "with open('ACCEDEfeaturesArousal_TAC2015.txt') as file:\n",
    "    lines = file.readlines()\n",
    "    data = [line.split('\\t') for line in lines]"
   ]
  },
  {
   "cell_type": "code",
   "execution_count": 3,
   "metadata": {},
   "outputs": [
    {
     "data": {
      "text/html": [
       "<div>\n",
       "<style>\n",
       "    .dataframe thead tr:only-child th {\n",
       "        text-align: right;\n",
       "    }\n",
       "\n",
       "    .dataframe thead th {\n",
       "        text-align: left;\n",
       "    }\n",
       "\n",
       "    .dataframe tbody tr th {\n",
       "        vertical-align: top;\n",
       "    }\n",
       "</style>\n",
       "<table border=\"1\" class=\"dataframe\">\n",
       "  <thead>\n",
       "    <tr style=\"text-align: right;\">\n",
       "      <th></th>\n",
       "      <th>id</th>\n",
       "      <th>name</th>\n",
       "      <th>colorfulness</th>\n",
       "      <th>minEnergy</th>\n",
       "      <th>alpha</th>\n",
       "      <th>lightning</th>\n",
       "      <th>globalActivity</th>\n",
       "      <th>nbWhiteFrames</th>\n",
       "      <th>nbSceneCuts</th>\n",
       "      <th>cutLength</th>\n",
       "      <th>...</th>\n",
       "      <th>wtf_max2stdratio_5</th>\n",
       "      <th>wtf_max2stdratio_6</th>\n",
       "      <th>wtf_max2stdratio_7</th>\n",
       "      <th>wtf_max2stdratio_8</th>\n",
       "      <th>wtf_max2stdratio_9</th>\n",
       "      <th>wtf_max2stdratio_10</th>\n",
       "      <th>wtf_max2stdratio_11</th>\n",
       "      <th>wtf_max2stdratio_12</th>\n",
       "      <th>medianLightness</th>\n",
       "      <th>slope</th>\n",
       "    </tr>\n",
       "  </thead>\n",
       "  <tbody>\n",
       "    <tr>\n",
       "      <th>0</th>\n",
       "      <td>0</td>\n",
       "      <td>ACCEDE00000.mp4</td>\n",
       "      <td>47.939117</td>\n",
       "      <td>0.540554</td>\n",
       "      <td>5</td>\n",
       "      <td>1.057049</td>\n",
       "      <td>0.100531</td>\n",
       "      <td>0</td>\n",
       "      <td>1</td>\n",
       "      <td>117</td>\n",
       "      <td>...</td>\n",
       "      <td>4.00E+00</td>\n",
       "      <td>3.27E+00</td>\n",
       "      <td>2.37E+00</td>\n",
       "      <td>1.69E+00</td>\n",
       "      <td>1.46E+00</td>\n",
       "      <td>1.42E+00</td>\n",
       "      <td>1.41E+00</td>\n",
       "      <td>4.32E+15</td>\n",
       "      <td>0.431373</td>\n",
       "      <td>1.414934\\n</td>\n",
       "    </tr>\n",
       "    <tr>\n",
       "      <th>1</th>\n",
       "      <td>1</td>\n",
       "      <td>ACCEDE00001.mp4</td>\n",
       "      <td>52.748894</td>\n",
       "      <td>0.798568</td>\n",
       "      <td>41</td>\n",
       "      <td>0.464044</td>\n",
       "      <td>0.062712</td>\n",
       "      <td>0</td>\n",
       "      <td>1</td>\n",
       "      <td>153</td>\n",
       "      <td>...</td>\n",
       "      <td>4.32E+00</td>\n",
       "      <td>3.76E+00</td>\n",
       "      <td>2.91E+00</td>\n",
       "      <td>2.03E+00</td>\n",
       "      <td>1.57E+00</td>\n",
       "      <td>1.43E+00</td>\n",
       "      <td>1.41E+00</td>\n",
       "      <td>3.53E+15</td>\n",
       "      <td>0.219608</td>\n",
       "      <td>1.354866\\n</td>\n",
       "    </tr>\n",
       "    <tr>\n",
       "      <th>2</th>\n",
       "      <td>2</td>\n",
       "      <td>ACCEDE00002.mp4</td>\n",
       "      <td>60.224403</td>\n",
       "      <td>0.833286</td>\n",
       "      <td>50</td>\n",
       "      <td>0.294487</td>\n",
       "      <td>0.322534</td>\n",
       "      <td>0</td>\n",
       "      <td>3</td>\n",
       "      <td>52</td>\n",
       "      <td>...</td>\n",
       "      <td>4.13E+00</td>\n",
       "      <td>3.31E+00</td>\n",
       "      <td>2.77E+00</td>\n",
       "      <td>2.19E+00</td>\n",
       "      <td>1.54E+00</td>\n",
       "      <td>1.42E+00</td>\n",
       "      <td>1.41E+00</td>\n",
       "      <td>2.42E+15</td>\n",
       "      <td>0.4</td>\n",
       "      <td>1.312889\\n</td>\n",
       "    </tr>\n",
       "    <tr>\n",
       "      <th>3</th>\n",
       "      <td>3</td>\n",
       "      <td>ACCEDE00003.mp4</td>\n",
       "      <td>82.669434</td>\n",
       "      <td>1.017838</td>\n",
       "      <td>43</td>\n",
       "      <td>0.447583</td>\n",
       "      <td>0.70555</td>\n",
       "      <td>0</td>\n",
       "      <td>1</td>\n",
       "      <td>52</td>\n",
       "      <td>...</td>\n",
       "      <td>3.86E+00</td>\n",
       "      <td>3.20E+00</td>\n",
       "      <td>2.74E+00</td>\n",
       "      <td>2.39E+00</td>\n",
       "      <td>1.74E+00</td>\n",
       "      <td>1.44E+00</td>\n",
       "      <td>1.41E+00</td>\n",
       "      <td>2.09E+15</td>\n",
       "      <td>0.521569</td>\n",
       "      <td>1.334575\\n</td>\n",
       "    </tr>\n",
       "    <tr>\n",
       "      <th>4</th>\n",
       "      <td>4</td>\n",
       "      <td>ACCEDE00004.mp4</td>\n",
       "      <td>64.427177</td>\n",
       "      <td>0.670391</td>\n",
       "      <td>38</td>\n",
       "      <td>0.059518</td>\n",
       "      <td>0.127405</td>\n",
       "      <td>0</td>\n",
       "      <td>1</td>\n",
       "      <td>117</td>\n",
       "      <td>...</td>\n",
       "      <td>3.74E+00</td>\n",
       "      <td>3.15E+00</td>\n",
       "      <td>2.82E+00</td>\n",
       "      <td>2.38E+00</td>\n",
       "      <td>1.68E+00</td>\n",
       "      <td>1.43E+00</td>\n",
       "      <td>1.41E+00</td>\n",
       "      <td>1.97E+15</td>\n",
       "      <td>0.47451</td>\n",
       "      <td>1.390362\\n</td>\n",
       "    </tr>\n",
       "  </tbody>\n",
       "</table>\n",
       "<p>5 rows × 25 columns</p>\n",
       "</div>"
      ],
      "text/plain": [
       "  id             name colorfulness minEnergy alpha lightning globalActivity  \\\n",
       "0  0  ACCEDE00000.mp4    47.939117  0.540554     5  1.057049       0.100531   \n",
       "1  1  ACCEDE00001.mp4    52.748894  0.798568    41  0.464044       0.062712   \n",
       "2  2  ACCEDE00002.mp4    60.224403  0.833286    50  0.294487       0.322534   \n",
       "3  3  ACCEDE00003.mp4    82.669434  1.017838    43  0.447583        0.70555   \n",
       "4  4  ACCEDE00004.mp4    64.427177  0.670391    38  0.059518       0.127405   \n",
       "\n",
       "  nbWhiteFrames nbSceneCuts cutLength     ...     wtf_max2stdratio_5  \\\n",
       "0             0           1       117     ...               4.00E+00   \n",
       "1             0           1       153     ...               4.32E+00   \n",
       "2             0           3        52     ...               4.13E+00   \n",
       "3             0           1        52     ...               3.86E+00   \n",
       "4             0           1       117     ...               3.74E+00   \n",
       "\n",
       "  wtf_max2stdratio_6 wtf_max2stdratio_7 wtf_max2stdratio_8 wtf_max2stdratio_9  \\\n",
       "0           3.27E+00           2.37E+00           1.69E+00           1.46E+00   \n",
       "1           3.76E+00           2.91E+00           2.03E+00           1.57E+00   \n",
       "2           3.31E+00           2.77E+00           2.19E+00           1.54E+00   \n",
       "3           3.20E+00           2.74E+00           2.39E+00           1.74E+00   \n",
       "4           3.15E+00           2.82E+00           2.38E+00           1.68E+00   \n",
       "\n",
       "  wtf_max2stdratio_10 wtf_max2stdratio_11 wtf_max2stdratio_12 medianLightness  \\\n",
       "0            1.42E+00            1.41E+00            4.32E+15        0.431373   \n",
       "1            1.43E+00            1.41E+00            3.53E+15        0.219608   \n",
       "2            1.42E+00            1.41E+00            2.42E+15             0.4   \n",
       "3            1.44E+00            1.41E+00            2.09E+15        0.521569   \n",
       "4            1.43E+00            1.41E+00            1.97E+15         0.47451   \n",
       "\n",
       "      slope\\n  \n",
       "0  1.414934\\n  \n",
       "1  1.354866\\n  \n",
       "2  1.312889\\n  \n",
       "3  1.334575\\n  \n",
       "4  1.390362\\n  \n",
       "\n",
       "[5 rows x 25 columns]"
      ]
     },
     "execution_count": 3,
     "metadata": {},
     "output_type": "execute_result"
    }
   ],
   "source": [
    "# make a dataframe from it\n",
    "a = np.asarray(data)\n",
    "index = a[1:,0]\n",
    "col = a[0,:]\n",
    "a = a[1:,:]\n",
    "df = pd.DataFrame(data=a, index=index, columns=col)\n",
    "df.head()"
   ]
  },
  {
   "cell_type": "code",
   "execution_count": 4,
   "metadata": {},
   "outputs": [],
   "source": [
    "# read the annotation\n",
    "with open('annotations/ACCEDEranking.txt') as file:\n",
    "    lines = file.readlines()\n",
    "    annotate = [line.split('\\t') for line in lines]"
   ]
  },
  {
   "cell_type": "code",
   "execution_count": 5,
   "metadata": {},
   "outputs": [],
   "source": [
    "b = np.asarray(annotate)\n",
    "index = b[1:,0]\n",
    "col = b[0,:]\n",
    "b = b[1:,:]\n",
    "df_annotate = pd.DataFrame(data=b, index=index, columns=col)\n",
    "df_annotate = df_annotate.drop(['id','name'],axis=1)"
   ]
  },
  {
   "cell_type": "code",
   "execution_count": 6,
   "metadata": {},
   "outputs": [],
   "source": [
    "total_df = pd.concat([df, df_annotate], axis=1, join='outer')"
   ]
  },
  {
   "cell_type": "code",
   "execution_count": 34,
   "metadata": {},
   "outputs": [],
   "source": [
    "train_data = np.asarray(df[['colorfulness','minEnergy','alpha','lightning','globalActivity'\n",
    "                            ,'nbWhiteFrames','nbSceneCuts','cutLength','flatness_env'\n",
    "                            ,'wtf_max2stdratio_1','wtf_max2stdratio_2','wtf_max2stdratio_3'\n",
    "                            ,'wtf_max2stdratio_4','wtf_max2stdratio_5','wtf_max2stdratio_6'\n",
    "                            ,'wtf_max2stdratio_7','wtf_max2stdratio_8','wtf_max2stdratio_9'\n",
    "                            ,'wtf_max2stdratio_10','wtf_max2stdratio_11','wtf_max2stdratio_12','medianLightness']])\n",
    "valence = df_annotate['valenceValue'].values\n",
    "label_valence = [float(v) for v in valence]\n",
    "arousal = df_annotate['arousalValue'].values\n",
    "label_arousal = [float(v) for v in arousal]"
   ]
  },
  {
   "cell_type": "code",
   "execution_count": 52,
   "metadata": {},
   "outputs": [],
   "source": [
    "n = len(train_data)\n",
    "feat = len(train_data[0])\n",
    "train = [float(t) for i in range(n) for t in train_data[i] ]\n",
    "X_train = np.asarray(train).reshape((n,feat))\n",
    "\n",
    "# normalize the data\n",
    "from sklearn import preprocessing\n",
    "scaler = preprocessing.StandardScaler().fit(X_train)\n",
    "X_train_transformed = scaler.transform(X_train)"
   ]
  },
  {
   "cell_type": "code",
   "execution_count": 58,
   "metadata": {},
   "outputs": [
    {
     "name": "stdout",
     "output_type": "stream",
     "text": [
      "Valence MSE: 0.37336196785071085\n",
      "Arousal MSE: 0.8423003632942875\n"
     ]
    }
   ],
   "source": [
    "# do a quick prediction on the values\n",
    "# This is the training error\n",
    "\n",
    "from sklearn import linear_model\n",
    "reg = linear_model.LinearRegression()\n",
    "reg.fit(X_train_transformed, label_valence)\n",
    "pred = reg.predict(X_train_transformed)\n",
    "error = np.mean((pred-label_valence)**2)\n",
    "print('Valence MSE:', error)\n",
    "reg.fit(X_train_transformed, label_arousal)\n",
    "pred = reg.predict(X_train_transformed)\n",
    "error = np.mean((pred-label_arousal)**2)\n",
    "print('Arousal MSE:', error)"
   ]
  },
  {
   "cell_type": "code",
   "execution_count": 55,
   "metadata": {},
   "outputs": [
    {
     "name": "stdout",
     "output_type": "stream",
     "text": [
      "Valence RMSE: 0.6139517279715563\n"
     ]
    }
   ],
   "source": [
    "# tyy PCA\n",
    "from sklearn.decomposition import PCA\n",
    "pca = PCA(n_components=12)\n",
    "X_new = pca.fit_transform(X_train_transformed)\n",
    "reg.fit(X_new, label_valence)\n",
    "pred = reg.predict(X_new)\n",
    "error = np.sqrt(np.mean((pred-label_valence)**2))\n",
    "print('Valence RMSE:', error)"
   ]
  },
  {
   "cell_type": "code",
   "execution_count": 51,
   "metadata": {},
   "outputs": [
    {
     "data": {
      "text/plain": [
       "array([0.41147092, 0.38578348, 0.47036316, 0.38328823, 0.36913974,\n",
       "       0.37329604, 0.33224317, 0.44994844, 0.3440702 , 0.3073722 ])"
      ]
     },
     "execution_count": 51,
     "metadata": {},
     "output_type": "execute_result"
    }
   ],
   "source": [
    "# cross-validation\n",
    "from sklearn.pipeline import make_pipeline\n",
    "from sklearn.model_selection import cross_val_score\n",
    "from sklearn import metrics\n",
    "scorer = metrics.make_scorer(metrics.mean_squared_error)\n",
    "clf = make_pipeline(preprocessing.StandardScaler(), linear_model.LinearRegression())\n",
    "cross_val_score(clf, train, label_valence, cv=10, scoring=scorer)"
   ]
  },
  {
   "cell_type": "code",
   "execution_count": null,
   "metadata": {
    "collapsed": true
   },
   "outputs": [],
   "source": []
  }
 ],
 "metadata": {
  "kernelspec": {
   "display_name": "Python 3",
   "language": "python",
   "name": "python3"
  },
  "language_info": {
   "codemirror_mode": {
    "name": "ipython",
    "version": 3
   },
   "file_extension": ".py",
   "mimetype": "text/x-python",
   "name": "python",
   "nbconvert_exporter": "python",
   "pygments_lexer": "ipython3",
   "version": "3.6.2"
  }
 },
 "nbformat": 4,
 "nbformat_minor": 2
}
